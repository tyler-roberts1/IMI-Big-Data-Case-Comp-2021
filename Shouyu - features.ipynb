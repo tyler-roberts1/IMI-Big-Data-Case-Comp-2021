{
 "cells": [
  {
   "cell_type": "code",
   "execution_count": 12,
   "metadata": {},
   "outputs": [],
   "source": [
    "import pandas as pd\n",
    "import numpy as np\n",
    "from pandarallel import pandarallel\n",
    "#!pip install pandarallel"
   ]
  },
  {
   "cell_type": "code",
   "execution_count": 7,
   "metadata": {},
   "outputs": [],
   "source": [
    "def compute_trans_features(cus_group):\n",
    "  by_mon = cus_group.groupby('month').sum()\n",
    "  n_mon = len(cus_group['month'].unique())\n",
    "\n",
    "  in_per_cnt_avg = np.nansum((by_mon['in_amt']/by_mon['in_cnt']).fillna(0))/13.0\n",
    "  in_per_cnt_std = np.sqrt(np.nanstd((by_mon['in_amt']/by_mon['in_cnt']).fillna(0))**2 * n_mon / 13.0)\n",
    "  out_per_cnt_avg = np.nansum((by_mon['out_amt']/by_mon['out_cnt']).fillna(0))/13.0\n",
    "  out_per_cnt_std = np.sqrt(np.nanstd((by_mon['out_amt']/by_mon['out_cnt']).fillna(0))**2 * n_mon / 13.0)\n",
    "  \n",
    "  in_amt_avg = np.nansum(by_mon['in_amt'])/13.0\n",
    "  in_amt_std = np.sqrt((np.nanstd(by_mon['in_amt']))**2 * n_mon / 13.0)\n",
    "  out_amt_avg = np.nansum(by_mon['out_amt'])/13.0\n",
    "  out_amt_std = np.sqrt((np.nanstd(by_mon['out_amt']))**2 * n_mon / 13.0)\n",
    "\n",
    "  amt_ratio_avg = np.nansum((by_mon['in_amt']/by_mon['out_amt']).replace(np.inf,0))/13.0\n",
    "  amt_ratio_std = np.sqrt(np.nanstd((by_mon['in_amt']/by_mon['out_amt']).replace(np.inf,0))**2 * n_mon / 13.0)\n",
    "\n",
    "  in_cnt_avg = np.nansum(by_mon['in_cnt'])/13.0\n",
    "  in_cnt_std = np.sqrt(np.nanstd(by_mon['in_cnt'])**2 * n_mon / 13.0)\n",
    "  out_cnt_avg = np.nansum(by_mon['out_cnt'])/13.0\n",
    "  out_cnt_std = np.sqrt(np.nanstd(by_mon['out_cnt'])**2 * n_mon / 13.0)\n",
    "\n",
    "  cnt_ratio_avg = np.nansum((by_mon['in_cnt']/by_mon['out_cnt']).replace(np.inf,0))/13.0\n",
    "  cnt_ratio_std = np.sqrt(np.nanstd((by_mon['in_cnt']/by_mon['out_cnt']).replace(np.inf,0))**2 * n_mon / 13.0)\n",
    "  \n",
    "  mon_cash_group = cus_group[cus_group['trsactn_type']=='cash'].groupby(by=['month']).sum()\n",
    "  mon_cheque_group = cus_group[cus_group['trsactn_type']=='cheque'].groupby(by=['month']).sum()\n",
    "  mon_visa_group = cus_group[cus_group['trsactn_type']=='visa'].groupby(by=['month']).sum()\n",
    "  mon_debit_group = cus_group[cus_group['trsactn_type']=='debit'].groupby(by=['month']).sum()\n",
    "  mon_amex_group = cus_group[cus_group['trsactn_type']=='amex'].groupby(by=['month']).sum()\n",
    "  \n",
    "  per_cash_in_amt_avg = np.nansum((mon_cash_group['in_amt']/by_mon['in_amt']).fillna(0).replace(np.inf,0))/13.0\n",
    "  per_cash_in_amt_std = np.sqrt(np.nanstd((mon_cash_group['in_amt']/by_mon['in_amt']).fillna(0).replace(np.inf,0))**2 * n_mon / 13.0)\n",
    "  per_cash_in_cnt_avg = np.nansum(mon_cash_group['in_cnt']/by_mon['in_cnt'].fillna(0).replace(np.inf,0)) / 13.0\n",
    "  per_cash_in_cnt_std = np.sqrt(np.nanstd((mon_cash_group['in_cnt']/by_mon['in_cnt']).fillna(0).replace(np.inf,0))**2 * n_mon / 13.0)\n",
    "  per_cash_out_amt_avg = np.nansum((mon_cash_group['out_amt']/by_mon['out_amt']).fillna(0).replace(np.inf,0))/13.0\n",
    "  per_cash_out_amt_std = np.sqrt(np.nanstd((mon_cash_group['out_amt']/by_mon['out_amt']).fillna(0).replace(np.inf,0))**2 * n_mon / 13.0)\n",
    "  per_cash_out_cnt_avg = np.nansum(mon_cash_group['out_cnt']/by_mon['out_cnt'].fillna(0).replace(np.inf,0)) / 13.0\n",
    "  per_cash_out_cnt_std = np.sqrt(np.nanstd((mon_cash_group['out_cnt']/by_mon['out_cnt']).fillna(0).replace(np.inf,0))**2 * n_mon / 13.0)\n",
    "\n",
    "  per_cheque_in_amt_avg = np.nansum((mon_cheque_group['in_amt']/by_mon['in_amt']).fillna(0).replace(np.inf,0))/13.0\n",
    "  per_cheque_in_amt_std = np.sqrt(np.nanstd((mon_cheque_group['in_amt']/by_mon['in_amt']).fillna(0).replace(np.inf,0))**2 * n_mon / 13.0)\n",
    "  per_cheque_in_cnt_avg = np.nansum(mon_cheque_group['in_cnt']/by_mon['in_cnt'].fillna(0).replace(np.inf,0)) / 13.0\n",
    "  per_cheque_in_cnt_std = np.sqrt(np.nanstd((mon_cheque_group['in_cnt']/by_mon['in_cnt']).fillna(0).replace(np.inf,0))**2 * n_mon / 13.0)\n",
    "  per_cheque_out_amt_avg = np.nansum((mon_cheque_group['out_amt']/by_mon['out_amt']).fillna(0).replace(np.inf,0))/13.0\n",
    "  per_cheque_out_amt_std = np.sqrt(np.nanstd((mon_cheque_group['out_amt']/by_mon['out_amt']).fillna(0).replace(np.inf,0))**2 * n_mon / 13.0)\n",
    "  per_cheque_out_cnt_avg = np.nansum(mon_cheque_group['out_cnt']/by_mon['out_cnt'].fillna(0).replace(np.inf,0)) / 13.0\n",
    "  per_cheque_out_cnt_std = np.sqrt(np.nanstd((mon_cheque_group['out_cnt']/by_mon['out_cnt']).fillna(0).replace(np.inf,0))**2 * n_mon / 13.0)\n",
    "\n",
    "  per_visa_in_amt_avg = np.nansum((mon_visa_group['in_amt']/by_mon['in_amt']).fillna(0).replace(np.inf,0))/13.0\n",
    "  per_visa_in_amt_std = np.sqrt(np.nanstd((mon_visa_group['in_amt']/by_mon['in_amt']).fillna(0).replace(np.inf,0))**2 * n_mon / 13.0)\n",
    "  per_visa_in_cnt_avg = np.nansum(mon_visa_group['in_cnt']/by_mon['in_cnt'].fillna(0).replace(np.inf,0)) / 13.0\n",
    "  per_visa_in_cnt_std = np.sqrt(np.nanstd((mon_visa_group['in_cnt']/by_mon['in_cnt']).fillna(0).replace(np.inf,0))**2 * n_mon / 13.0)\n",
    "  per_visa_out_amt_avg = np.nansum((mon_visa_group['out_amt']/by_mon['out_amt']).fillna(0).replace(np.inf,0))/13.0\n",
    "  per_visa_out_amt_std = np.sqrt(np.nanstd((mon_visa_group['out_amt']/by_mon['out_amt']).fillna(0).replace(np.inf,0))**2 * n_mon / 13.0)\n",
    "  per_visa_out_cnt_avg = np.nansum(mon_visa_group['out_cnt']/by_mon['out_cnt'].fillna(0).replace(np.inf,0)) / 13.0\n",
    "  per_visa_out_cnt_std = np.sqrt(np.nanstd((mon_visa_group['out_cnt']/by_mon['out_cnt']).fillna(0).replace(np.inf,0))**2 * n_mon / 13.0)\n",
    "\n",
    "  per_debit_in_amt_avg = np.nansum((mon_debit_group['in_amt']/by_mon['in_amt']).fillna(0).replace(np.inf,0))/13.0\n",
    "  per_debit_in_amt_std = np.sqrt(np.nanstd((mon_debit_group['in_amt']/by_mon['in_amt']).fillna(0).replace(np.inf,0))**2 * n_mon / 13.0)\n",
    "  per_debit_in_cnt_avg = np.nansum(mon_debit_group['in_cnt']/by_mon['in_cnt'].fillna(0).replace(np.inf,0)) / 13.0\n",
    "  per_debit_in_cnt_std = np.sqrt(np.nanstd((mon_debit_group['in_cnt']/by_mon['in_cnt']).fillna(0).replace(np.inf,0))**2 * n_mon / 13.0)\n",
    "  per_debit_out_amt_avg = np.nansum((mon_debit_group['out_amt']/by_mon['out_amt']).fillna(0).replace(np.inf,0))/13.0\n",
    "  per_debit_out_amt_std = np.sqrt(np.nanstd((mon_debit_group['out_amt']/by_mon['out_amt']).fillna(0).replace(np.inf,0))**2 * n_mon / 13.0)\n",
    "  per_debit_out_cnt_avg = np.nansum(mon_debit_group['out_cnt']/by_mon['out_cnt'].fillna(0).replace(np.inf,0)) / 13.0\n",
    "  per_debit_out_cnt_std = np.sqrt(np.nanstd((mon_debit_group['out_cnt']/by_mon['out_cnt']).fillna(0).replace(np.inf,0))**2 * n_mon / 13.0)\n",
    "\n",
    "  per_amex_in_amt_avg = np.nansum((mon_amex_group['in_amt']/by_mon['in_amt']).fillna(0).replace(np.inf,0))/13.0\n",
    "  per_amex_in_amt_std = np.sqrt(np.nanstd((mon_amex_group['in_amt']/by_mon['in_amt']).fillna(0).replace(np.inf,0))**2 * n_mon / 13.0)\n",
    "  per_amex_in_cnt_avg = np.nansum(mon_amex_group['in_cnt']/by_mon['in_cnt'].fillna(0).replace(np.inf,0)) / 13.0\n",
    "  per_amex_in_cnt_std = np.sqrt(np.nanstd((mon_amex_group['in_cnt']/by_mon['in_cnt']).fillna(0).replace(np.inf,0))**2 * n_mon / 13.0)\n",
    "  per_amex_out_amt_avg = np.nansum((mon_amex_group['out_amt']/by_mon['out_amt']).fillna(0).replace(np.inf,0))/13.0\n",
    "  per_amex_out_amt_std = np.sqrt(np.nanstd((mon_amex_group['out_amt']/by_mon['out_amt']).fillna(0).replace(np.inf,0))**2 * n_mon / 13.0)\n",
    "  per_amex_out_cnt_avg = np.nansum(mon_amex_group['out_cnt']/by_mon['out_cnt'].fillna(0).replace(np.inf,0)) / 13.0\n",
    "  per_amex_out_cnt_std = np.sqrt(np.nanstd((mon_amex_group['out_cnt']/by_mon['out_cnt']).fillna(0).replace(np.inf,0))**2 * n_mon / 13.0)\n",
    "\n",
    "  return pd.DataFrame({'in_per_cnt_avg':in_per_cnt_avg, 'in_per_cnt_std':in_per_cnt_std, \n",
    "                       'out_per_cnt_avg':out_per_cnt_avg, 'out_per_cnt_std':out_per_cnt_std,\n",
    "                       'in_amt_avg':in_amt_avg, 'in_amt_std':in_amt_std, \n",
    "                       'out_amt_avg':out_amt_avg, 'out_amt_std':out_amt_std,\n",
    "                       'per_cash_in_amt_avg':per_cash_in_amt_avg, 'per_cash_in_amt_std':per_cash_in_amt_std, \n",
    "                       'per_cash_in_cnt_avg':per_cash_in_cnt_avg, 'per_cash_in_cnt_std':per_cash_in_cnt_std,\n",
    "                       'per_cash_out_amt_avg':per_cash_out_amt_avg, 'per_cash_out_amt_std':per_cash_out_amt_std,\n",
    "                       'per_cash_out_cnt_avg':per_cash_out_cnt_avg, 'per_cash_out_cnt_std':per_cash_out_cnt_std,\n",
    "                       'per_cheque_in_amt_avg':per_cheque_in_amt_avg, 'per_cheque_in_amt_std':per_cheque_in_amt_std, \n",
    "                       'per_cheque_in_cnt_avg':per_cheque_in_cnt_avg, 'per_cheque_in_cnt_std':per_cheque_in_cnt_std,\n",
    "                       'per_cheque_out_amt_avg':per_cheque_out_amt_avg, 'per_cheque_out_amt_std':per_cheque_out_amt_std,\n",
    "                       'per_cheque_out_cnt_avg':per_cheque_out_cnt_avg, 'per_cheque_out_cnt_std':per_cheque_out_cnt_std,\n",
    "                       'per_visa_in_amt_avg':per_visa_in_amt_avg, 'per_visa_in_amt_std':per_visa_in_amt_std, \n",
    "                       'per_visa_in_cnt_avg':per_visa_in_cnt_avg, 'per_visa_in_cnt_std':per_visa_in_cnt_std,\n",
    "                       'per_visa_out_amt_avg':per_visa_out_amt_avg, 'per_visa_out_amt_std':per_visa_out_amt_std,\n",
    "                       'per_visa_out_cnt_avg':per_visa_out_cnt_avg, 'per_visa_out_cnt_std':per_visa_out_cnt_std,\n",
    "                       'per_debit_in_amt_avg':per_debit_in_amt_avg, 'per_debit_in_amt_std':per_debit_in_amt_std, \n",
    "                       'per_debit_in_cnt_avg':per_debit_in_cnt_avg, 'per_debit_in_cnt_std':per_debit_in_cnt_std,\n",
    "                       'per_debit_out_amt_avg':per_debit_out_amt_avg, 'per_debit_out_amt_std':per_debit_out_amt_std,\n",
    "                       'per_debit_out_cnt_avg':per_debit_out_cnt_avg, 'per_debit_out_cnt_std':per_debit_out_cnt_std,\n",
    "                       'per_amex_in_amt_avg':per_amex_in_amt_avg, 'per_amex_in_amt_std':per_amex_in_amt_std, \n",
    "                       'per_amex_in_cnt_avg':per_amex_in_cnt_avg, 'per_amex_in_cnt_std':per_amex_in_cnt_std,\n",
    "                       'per_amex_out_amt_avg':per_amex_out_amt_avg, 'per_amex_out_amt_std':per_amex_out_amt_std,\n",
    "                       'per_amex_out_cnt_avg':per_amex_out_cnt_avg, 'per_amex_out_cnt_std':per_amex_out_cnt_std,},index=[0])\n"
   ]
  },
  {
   "cell_type": "code",
   "execution_count": 8,
   "metadata": {},
   "outputs": [],
   "source": [
    "df_trans = pd.read_parquet(\"bigdata2021data/transaction_train.parquet\")"
   ]
  },
  {
   "cell_type": "code",
   "execution_count": 9,
   "metadata": {},
   "outputs": [],
   "source": [
    "df_trans_by_cus = df_trans.groupby('customer_id_mskd')"
   ]
  },
  {
   "cell_type": "code",
   "execution_count": 13,
   "metadata": {},
   "outputs": [
    {
     "name": "stdout",
     "output_type": "stream",
     "text": [
      "INFO: Pandarallel will run on 2 workers.\n",
      "INFO: Pandarallel will use standard multiprocessing data transfer (pipe) to transfer data between the main process and workers.\n"
     ]
    }
   ],
   "source": [
    "pandarallel.initialize(nb_workers=2)"
   ]
  },
  {
   "cell_type": "code",
   "execution_count": 14,
   "metadata": {},
   "outputs": [],
   "source": [
    "df_trans_features = df_trans_by_cus.parallel_apply(compute_trans_features)"
   ]
  },
  {
   "cell_type": "code",
   "execution_count": null,
   "metadata": {},
   "outputs": [],
   "source": []
  }
 ],
 "metadata": {
  "kernelspec": {
   "display_name": "Python 3",
   "language": "python",
   "name": "python3"
  },
  "language_info": {
   "codemirror_mode": {
    "name": "ipython",
    "version": 3
   },
   "file_extension": ".py",
   "mimetype": "text/x-python",
   "name": "python",
   "nbconvert_exporter": "python",
   "pygments_lexer": "ipython3",
   "version": "3.7.6"
  }
 },
 "nbformat": 4,
 "nbformat_minor": 4
}
