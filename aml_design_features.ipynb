{
 "cells": [
  {
   "cell_type": "markdown",
   "metadata": {},
   "source": [
    "# IMI Big Data Competition - Anti-money Laundring \n",
    "# Unsupervised classifcation approach\n",
    "\n",
    "This script designs features to be input for further analysis such as PCA or linear regression"
   ]
  },
  {
   "cell_type": "code",
   "execution_count": null,
   "metadata": {},
   "outputs": [],
   "source": [
    "# import required libraries\n",
    "import pandas as pd\n",
    "import numpy as np\n",
    "from matplotlib import pyplot as plt\n",
    "import seaborn as sns\n",
    "import os\n",
    "\n",
    "%matplotlib inline"
   ]
  },
  {
   "cell_type": "markdown",
   "metadata": {},
   "source": [
    "## Load the clean merged data\n",
    "Note: customers without transaction data were removed when merging the cust_train and trsact_train data sets\n",
    "\n",
    "Overview of variable information\n",
    "* The first five columns correspond to information given by the customer\n",
    "* The variable \"rating\" means risk of AML: 1 = low risk, 2 = medium risk, 3 = potentially high risk\n",
    "* Columns beginning with “PCD” or “SRV” correspond to ‘product’ or ‘account’ information (e.g., PCD_MOR: how many accounts of type “MOR” does this customer have)\n",
    "* \"in_amt\" and \"out_amt\": The total volume entering and exiting each product for each customer\n",
    "* \"in_cnt\" and \"out_cnt\": The total count of transactions over which that volume was distributed\n",
    "\n",
    "For detailed information about the clean merge data, see aml_preprocessing_script.ipynb"
   ]
  },
  {
   "cell_type": "code",
   "execution_count": null,
   "metadata": {},
   "outputs": [],
   "source": [
    "# Load the clean merge data and view the dtypes contained\n",
    "rootDir = '/Users/Me/Local/Directory/'\n",
    "filePath = os.path.join(rootDir,'merged_clean_df.parquet')\n",
    "merged_df = pd.read_parquet(filePath)\n",
    "merged_df.info()"
   ]
  },
  {
   "cell_type": "code",
   "execution_count": null,
   "metadata": {},
   "outputs": [],
   "source": [
    "#Categorical variables\n",
    "cols_cat = ['jurisdiction_code','client_type_aml','occupation_code_aml','country_of_domicile_aml',\n",
    "            'occupation_status_code_aml','customer_status_aml','primary_ownership_flag','relationship_type',\n",
    "            'trsactn_type'] \n",
    "#Continuous variables\n",
    "cols_cont = ['PCD_CDA','PCD_CRC','PCD_LLC','PCD_MOR','PCD_SAV','PCD_SDB','PCD_TED',\n",
    "            'in_amt','in_cnt','out_amt','out_cnt']"
   ]
  },
  {
   "cell_type": "code",
   "execution_count": null,
   "metadata": {},
   "outputs": [],
   "source": [
    "# label the customer risk rating\n",
    "lst_rating_lbl = [] #np.empty((len(df_merge),1))\n",
    "for val in merged_df['rating']:\n",
    "    if val==1:\n",
    "        lst_rating_lbl.append('low')\n",
    "    elif val==2:\n",
    "        lst_rating_lbl.append('medium')\n",
    "    elif val==3:\n",
    "        lst_rating_lbl.append('high')\n",
    "\n",
    "rating_lbl = pd.DataFrame(lst_rating_lbl, columns=['rating_lbl'])\n",
    "merged_df = pd.concat([merged_df, rating_lbl], axis = 1)"
   ]
  },
  {
   "cell_type": "markdown",
   "metadata": {},
   "source": [
    "### The following categorical variables have less than (or equal to) 3 levels across customers:\n",
    "* jurisdiction_code\n",
    "* client_type_aml \n",
    "• customer_status_aml\n",
    "* primary_ownership_flag\n"
   ]
  },
  {
   "cell_type": "code",
   "execution_count": null,
   "metadata": {},
   "outputs": [],
   "source": [
    "#The grouping table shows that there could be multiple transaction data in each month for each customer\n",
    "merged_df.groupby(['customer_id_mskd','month'])['rating'].count()\n"
   ]
  },
  {
   "cell_type": "markdown",
   "metadata": {},
   "source": [
    "## Create some new variables\n",
    "### For each customer, each month, each type of transaction (i.e., for each row in merge_df)\n",
    "* Amount of deposit per deposit \n",
    "* Amount of withdrawl per withdrawl\n",
    "* Deposit-to-withdrawl ratio\n",
    "* Withdrawl-to-deposit ratio"
   ]
  },
  {
   "cell_type": "code",
   "execution_count": null,
   "metadata": {},
   "outputs": [],
   "source": [
    "print('Number of rows in the merged_df dataframe:', str(len(merged_df)), 'rows.')\n",
    "# On average the amount of incoming money per incoming transaction (in_amt divided by in_cnt)\n",
    "# NaN means there is no incoming transaction in that month for that customer\n",
    "cond = (merged_df['in_amt']==0) & (merged_df['in_cnt']==0)\n",
    "merged_df['in_frac'] = np.where(cond, np.nan, merged_df['in_amt']/merged_df['in_cnt'])\n",
    "# merged_df = merged_df.assign(in_frac=merged_df['in_amt']/merged_df['in_cnt'])\n",
    "# print('No incoming transaction:', str(merged_df['in_frac'].isna().sum()), 'rows')\n",
    "print('Number of rows without IN transaction:', str(sum(cond)), 'rows')\n",
    "\n",
    "# On average the amount of exiting money per exiting transaction (out_amt divided by out_cnt)\n",
    "# NaN means there is no incoming transaction in that month for that customer\n",
    "cond = (merged_df['out_amt']==0) & (merged_df['out_cnt']==0)\n",
    "merged_df['out_frac'] = np.where(cond, np.nan, merged_df['out_amt']/merged_df['out_cnt'])\n",
    "# merged_df = merged_df.assign(out_frac=merged_df['out_amt']/merged_df['out_cnt'])\n",
    "# print('No exiting transaction:', str(merged_df['out_frac'].isna().sum()), 'rows.')\n",
    "print('Number of rows without exiting transaction:', str(sum(cond)), 'rows')\n",
    "\n",
    "# Incoming / existing money ratio (in_amt divided by out_amt)\n",
    "cond = [(merged_df['in_amt']==0) & (merged_df['out_amt']==0),\n",
    "        (merged_df['in_amt']!=0) & (merged_df['out_amt']==0),\n",
    "        (merged_df['in_amt']==0) & (merged_df['out_amt']!=0),\n",
    "        (merged_df['in_amt']!=0) & (merged_df['out_amt']!=0)]\n",
    "choice = [np.nan, np.nan, 0, merged_df['in_amt']/merged_df['out_amt']]\n",
    "merged_df['inout_ratio'] = np.select(cond,choice)\n",
    "# merged_df = merged_df.assign(inout_ratio=merged_df['in_amt']/merged_df['out_amt'])\n",
    "# print('There is incoming but no existing transaction:', str(np.isinf(merged_df['inout_ratio']).values.sum()), 'rows.')\n",
    "print('There is IN but no OUT transaction:', sum(cond[1]), 'rows.')\n",
    "\n",
    "# Existing / incoming money ratio (out_amt divided by in_amt)\n",
    "cond = [(merged_df['out_amt']==0) & (merged_df['in_amt']==0),\n",
    "        (merged_df['out_amt']!=0) & (merged_df['in_amt']==0),\n",
    "        (merged_df['out_amt']==0) & (merged_df['in_amt']!=0),\n",
    "        (merged_df['out_amt']!=0) & (merged_df['in_amt']!=0)]\n",
    "choice = [np.nan, np.nan, 0, merged_df['out_amt']/merged_df['in_amt']]\n",
    "merged_df['outin_ratio'] = np.select(cond,choice)\n",
    "# merged_df = merged_df.assign(outin_ratio=merged_df['out_amt']/merged_df['in_amt'])\n",
    "# print('There is exiting but no incoming transaction:', str(np.isinf(merged_df['outin_ratio']).values.sum()), 'rows.')\n",
    "print('There is OUT but no IN transaction:', sum(cond[1]), 'rows.')\n",
    "\n",
    "# Incoming / exiting count ratio (in_cnt divided by out_cnt)\n",
    "cond = [(merged_df['in_cnt']==0) & (merged_df['out_cnt']==0),\n",
    "        (merged_df['in_cnt']!=0) & (merged_df['out_cnt']==0),\n",
    "        (merged_df['in_cnt']==0) & (merged_df['out_cnt']!=0),\n",
    "        (merged_df['in_cnt']!=0) & (merged_df['out_cnt']!=0)]\n",
    "choice = [np.nan, np.nan, 0, merged_df['in_cnt']/merged_df['out_cnt']]\n",
    "merged_df['inout_cnt_ratio'] = np.select(cond,choice)\n",
    "\n",
    "# Exiting / incoming count ratio (out_cnt divided by in_cnt)\n",
    "cond = [(merged_df['out_cnt']==0) & (merged_df['in_cnt']==0),\n",
    "        (merged_df['out_cnt']!=0) & (merged_df['in_cnt']==0),\n",
    "        (merged_df['out_cnt']==0) & (merged_df['in_cnt']!=0),\n",
    "        (merged_df['out_cnt']!=0) & (merged_df['in_cnt']!=0)]\n",
    "choice = [np.nan, np.nan, 0, merged_df['out_cnt']/merged_df['in_cnt']]\n",
    "merged_df['outin_cnt_ratio'] = np.select(cond,choice)\n",
    "\n",
    "del cond, choice"
   ]
  },
  {
   "cell_type": "code",
   "execution_count": null,
   "metadata": {},
   "outputs": [],
   "source": [
    "merged_df['trsactn_type'].unique()"
   ]
  },
  {
   "cell_type": "code",
   "execution_count": null,
   "metadata": {},
   "outputs": [],
   "source": [
    "#Organize the data such that results each type of transaction are in columns\n",
    "# create a dataframe with customer information along with the month column\n",
    "# (i.e., for each customer, the cutomer information is repeated across months)\n",
    "cols_sel = cols_cat.copy()\n",
    "cols_add = ['month','rating','rating_lbl','customer_id_mskd']\n",
    "[cols_sel.append(i) for i in cols_add]\n",
    "cols_sel.remove('trans_type')\n",
    "\n",
    "trans_each = merged_df[cols_sel].groupby(['customer_id_mskd','month']).first().reset_index()\n"
   ]
  },
  {
   "cell_type": "code",
   "execution_count": null,
   "metadata": {},
   "outputs": [],
   "source": [
    "#Checkng dtypes again before any kind of anaylyses\n",
    "trsact_each.info()"
   ]
  },
  {
   "cell_type": "markdown",
   "metadata": {},
   "source": [
    "## Sum the data across months for each type of transaction, for each customer\n",
    "### (i.e., each customer will have 1 row for each transaction type in this dataframe)"
   ]
  },
  {
   "cell_type": "code",
   "execution_count": null,
   "metadata": {},
   "outputs": [],
   "source": [
    "# concatenate other customer information to this dataframe\n",
    "cols_sel = cols_cat.copy()\n",
    "cols_add = ['rating','rating_lbl','customer_id_mskd']\n",
    "[cols_sel.append(i) for i in cols_add]\n",
    "\n",
    "temp = merged_df[cols_sel].groupby(['customer_id_mskd','trsactn_type']).first().reset_index()\n",
    "\n",
    "merged_year = merged_year.merge(temp, on=['customer_id_mskd','trsactn_type'], how='left')\n",
    "\n",
    "del tmp"
   ]
  },
  {
   "cell_type": "code",
   "execution_count": null,
   "metadata": {},
   "outputs": [],
   "source": [
    "# Add the same new variables as merge_df\n",
    "# On average the amount of incoming money per incoming transaction (in_amt divided by in_cnt)\n",
    "# NaN means there is no incoming transaction over a year (across months) for that customer\n",
    "cond = (merged_year['in_amt']==0) & (merged_year['in_cnt']==0)\n",
    "merged_year['in_frac'] = np.where(cond, np.nan, merged_year['in_amt']/merged_year['in_cnt'])\n",
    "# merged_year = merged_year.assign(in_frac=merged_year['in_amt']/merged_year['in_cnt'])\n",
    "# print('No incoming transaction:', str(merged_year['in_frac'].isna().sum()), 'rows')\n",
    "print('Number of rows without incoming transaction:', str(sum(cond)), 'rows')\n",
    "\n",
    "# On average the amount of exiting money per exiting transaction (out_amt divided by out_cnt)\n",
    "# NaN means there is no exiting transaction over a year (across months) for that customer\n",
    "cond = (merged_year['out_amt']==0) & (merged_year['out_cnt']==0)\n",
    "merged_year['out_frac'] = np.where(cond, np.nan, merged_year['out_amt']/merged_year['out_cnt'])\n",
    "# merged_year = merged_year.assign(out_frac=merged_year['out_amt']/merged_year['out_cnt'])\n",
    "# print('No exiting transaction:', str(merged_year['out_frac'].isna().sum()), 'rows.')\n",
    "print('Number of rows without exiting transaction:', str(sum(cond)), 'rows')\n",
    "\n",
    "# Incoming / existing money ration (in_amt divided by out_amt)\n",
    "cond = [(merged_year['in_amt']==0) & (merged_year['out_amt']==0),\n",
    "        (merged_year['in_amt']!=0) & (merged_year['out_amt']==0),\n",
    "        (merged_year['in_amt']==0) & (merged_year['out_amt']!=0),\n",
    "        (merged_year['in_amt']!=0) & (merged_year['out_amt']!=0)]\n",
    "choice = [np.nan, np.nan, 0, merged_year['in_amt']/merged_year['out_amt']]\n",
    "merged_year['inout_ratio'] = np.select(cond,choice)\n",
    "# merged_year = merged_year.assign(inout_ratio=merged_year['in_amt']/merged_year['out_amt'])\n",
    "# print('There is incoming but no existing transaction:', str(np.isinf(merged_year['inout_ratio']).values.sum()), 'rows.')\n",
    "print('There is incoming but no existing transaction:', sum(cond[1]), 'rows.')\n",
    "\n",
    "# Existing / incoming money ration (out_amt divided by in_amt)\n",
    "cond = [(merged_year['out_amt']==0) & (merged_year['in_amt']==0),\n",
    "        (merged_year['out_amt']!=0) & (merged_year['in_amt']==0),\n",
    "        (merged_year['out_amt']==0) & (merged_year['in_amt']!=0),\n",
    "        (merged_year['out_amt']!=0) & (merged_year['in_amt']!=0)]\n",
    "choice = [np.nan, np.nan, 0, merged_year['out_amt']/merged_year['in_amt']]\n",
    "merged_year['outin_ratio'] = np.select(cond,choice)\n",
    "# merged_year = merged_year.assign(outin_ratio=merged_year['out_amt']/merged_year['in_amt'])\n",
    "# print('There is exiting but no incoming transaction:', str(np.isinf(merged_year['outin_ratio']).values.sum()), 'rows.')\n",
    "print('There is exiting but no incoming transaction:', sum(cond[1]), 'rows.')\n",
    "\n",
    "# Incoming / exiting count ratio (in_cnt divided by out_cnt)\n",
    "cond = [(merged_year['in_cnt']==0) & (merged_year['out_cnt']==0),\n",
    "        (merged_year['in_cnt']!=0) & (merged_year['out_cnt']==0),\n",
    "        (merged_year['in_cnt']==0) & (merged_year['out_cnt']!=0),\n",
    "        (merged_year['in_cnt']!=0) & (merged_year['out_cnt']!=0)]\n",
    "choice = [np.nan, np.nan, 0, merged_year['in_cnt']/merged_year['out_cnt']]\n",
    "merged_year['inout_cnt_ratio'] = np.select(cond,choice)\n",
    "\n",
    "# Exiting / incoming count ratio (out_cnt divided by in_cnt)\n",
    "cond = [(merged_year['out_cnt']==0) & (merged_year['in_cnt']==0),\n",
    "        (merged_year['out_cnt']!=0) & (merged_year['in_cnt']==0),\n",
    "        (merged_year['out_cnt']==0) & (merged_year['in_cnt']!=0),\n",
    "        (merged_year['out_cnt']!=0) & (merged_year['in_cnt']!=0)]\n",
    "choice = [np.nan, np.nan, 0, merged_year['out_cnt']/merged_year['in_cnt']]\n",
    "merged_year['outin_cnt_ratio'] = np.select(cond,choice)\n",
    "\n",
    "del cond, choice"
   ]
  },
  {
   "cell_type": "markdown",
   "metadata": {},
   "source": [
    "## Organize the yearly data such that results each type of transaction are in columns"
   ]
  },
  {
   "cell_type": "code",
   "execution_count": null,
   "metadata": {},
   "outputs": [],
   "source": [
    "# create a dataframe with customer information \n",
    "cols_sel = cols_cat.copy()\n",
    "cols_add = ['rating','rating_lbl','customer_id_mskd']\n",
    "[cols_sel.append(i) for i in cols_add]\n",
    "cols_sel.remove('trsactn_type')\n",
    "\n",
    "trans_each_year = merged_year[cols_sel].groupby(['customer_id_mskd']).first().reset_index()"
   ]
  },
  {
   "cell_type": "code",
   "execution_count": null,
   "metadata": {},
   "outputs": [],
   "source": [
    "# columns that are related to transaction\n",
    "cols_trans = cols_cont.copy()\n",
    "cols_add = ['in_frac','out_frac','inout_ratio','outin_ratio','inout_cnt_ratio','outin_cnt_ratio']\n",
    "[cols_trans.append(i) for i in cols_add]\n",
    "\n",
    "for col in cols_trans: # go through each column related to transaction\n",
    "    # convert to wide format for a given column\n",
    "    temp = pd.pivot_table(merge_yr, index=['customer_id_mskd'], columns='trans_type', values=col).reset_index()\n",
    "    keep_same = {'customer_id_mskd'}\n",
    "    tmp.columns = ['{}{}'.format(c, '' if c in keep_same else ('_'+col)) for c in tmp.columns]\n",
    "\n",
    "    # merge the wide format dataframe to the customer information dataframe\n",
    "    trans_each_year = trans_each_year.merge(temp, on=['customer_id_mskd'], how='outer')\n",
    "\n",
    "    del temp"
   ]
  },
  {
   "cell_type": "markdown",
   "metadata": {},
   "source": [
    "## Calculate the average and standard deviation of deposit and withdrawl trasactions across months and types of transactions\n"
   ]
  },
  {
   "cell_type": "code",
   "execution_count": null,
   "metadata": {},
   "outputs": [],
   "source": [
    "# Load the raw data sets again b/c the missing values were not filled with zeros\n",
    "df_cust = pd.read_parquet(\"cust_train.parquet\")\n",
    "df_trans = pd.read_parquet(\"transaction_train.parquet\")\n",
    "df_merged = df_cust.merge(df_trans, on='customer_id_mskd')\n",
    "# df_merge.info()\n",
    "\n",
    "avg_std_year = pd.DataFrame(df_merge['customer_id_mskd'].unique()).rename(columns={0: 'customer_id_mskd'})"
   ]
  },
  {
   "cell_type": "code",
   "execution_count": null,
   "metadata": {},
   "outputs": [],
   "source": [
    "cols_sel = ['PCD_CDA','PCD_CRC','PCD_LLC','PCD_MOR','PCD_SAV','PCD_SDB','PCD_TED',\n",
    "            'in_amt','in_cnt','out_amt','out_cnt']\n",
    "for col in cols_sel:\n",
    "    temp = df_merged.groupby('customer_id_mskd').agg({\n",
    "            col: [np.nansum, np.nanmean, np.nanstd]\n",
    "        }).droplevel(0, axis=1).add_prefix((col+'_')).reset_index()\n",
    "    avg_std_year = avg_std_year.merge(tmp, on=['customer_id_mskd'], how='outer')\n",
    "    \n",
    "    del tmp\n",
    "avg_std_year.info()"
   ]
  },
  {
   "cell_type": "markdown",
   "metadata": {},
   "source": [
    "## Calculate the amount of money per transaction for deposit and withdrawl across months and transaction types.\n",
    "\n",
    "## Calculate the deposit-to-withdrawl ratio, the withdrawl-to-deposit ratio as well as the ratios for counts."
   ]
  },
  {
   "cell_type": "code",
   "execution_count": null,
   "metadata": {},
   "outputs": [],
   "source": [
    "# On average the amount of IN money per IN transaction (in_amt_nansum divided by in_cnt_nansum)\n",
    "# NaN means there is no IN transaction over a year (across months) for that customer\n",
    "cond = (avg_std_year['in_amt_nansum']==0) & (avg_std_year['in_cnt_nansum']==0)\n",
    "avg_std_year['in_frac'] = np.where(cond, np.nan, avg_std_year['in_amt_nansum']/avg_std_year['in_cnt_nansum'])\n",
    "\n",
    "# On average the amount of OUT money per OUT transaction (out_amt_nansum divided by out_cnt_nansum)\n",
    "# NaN means there is no OUT transaction over a year (across months) for that customer\n",
    "cond = (avg_std_year['out_amt_nansum']==0) & (avg_std_year['out_cnt_nansum']==0)\n",
    "avg_std_year['out_frac'] = np.where(cond, np.nan, avg_std_year['out_amt_nansum']/avg_std_year['out_cnt_nansum'])\n",
    "\n",
    "\n",
    "# IN / OUT money ration (in_amt_nansum divided by out_amt_nansum)\n",
    "cond = [(avg_std_year['in_amt_nansum']==0) & (avg_std_year['out_amt_nansum']==0),\n",
    "        (avg_std_year['in_amt_nansum']!=0) & (avg_std_year['out_amt_nansum']==0),\n",
    "        (avg_std_year['in_amt_nansum']==0) & (avg_std_year['out_amt_nansum']!=0),\n",
    "        (avg_std_year['in_amt_nansum']!=0) & (avg_std_year['out_amt_nansum']!=0)]\n",
    "choice = [np.nan, np.nan, 0, avg_std_year['in_amt_nansum']/avg_std_year['out_amt_nansum']]\n",
    "avg_std_year['inout_ratio'] = np.select(cond,choice)\n",
    "\n",
    "\n",
    "# OUT / IN money ration (out_amt_nansum divided by in_amt_nansum)\n",
    "cond = [(avg_std_year['out_amt_nansum']==0) & (avg_std_year['in_amt_nansum']==0),\n",
    "        (avg_std_year['out_amt_nansum']!=0) & (avg_std_year['in_amt_nansum']==0),\n",
    "        (avg_std_year['out_amt_nansum']==0) & (avg_std_year['in_amt_nansum']!=0),\n",
    "        (avg_std_year['out_amt_nansum']!=0) & (avg_std_year['in_amt_nansum']!=0)]\n",
    "choice = [np.nan, np.nan, 0, avg_std_year['out_amt_nansum']/avg_std_year['in_amt_nansum']]\n",
    "avg_std_year['outin_ratio'] = np.select(cond,choice)\n",
    "\n",
    "\n",
    "# IN / OUT count ratio (in_cnt_nansum divided by out_cnt_nansum)\n",
    "cond = [(avg_std_year['in_cnt_nansum']==0) & (avg_std_year['out_cnt_nansum']==0),\n",
    "        (avg_std_year['in_cnt_nansum']!=0) & (avg_std_year['out_cnt_nansum']==0),\n",
    "        (avg_std_year['in_cnt_nansum']==0) & (avg_std_year['out_cnt_nansum']!=0),\n",
    "        (avg_std_year['in_cnt_nansum']!=0) & (avg_std_year['out_cnt_nansum']!=0)]\n",
    "choice = [np.nan, np.nan, 0, avg_std_year['in_cnt_nansum']/avg_std_year['out_cnt_nansum']]\n",
    "avg_std_year['inout_cnt_ratio'] = np.select(cond,choice)\n",
    "\n",
    "# OUT / IN count ratio (out_cnt_nansum divided by in_cnt_nansum)\n",
    "cond = [(avg_std_year['out_cnt_nansum']==0) & (avg_std_year['in_cnt_nansum']==0),\n",
    "        (avg_std_year['out_cnt_nansum']!=0) & (avg_std_year['in_cnt_nansum']==0),\n",
    "        (avg_std_year['out_cnt_nansum']==0) & (avg_std_year['in_cnt_nansum']!=0),\n",
    "        (avg_std_year['out_cnt_nansum']!=0) & (avg_std_year['in_cnt_nansum']!=0)]\n",
    "choice = [np.nan, np.nan, 0, avg_std_year['out_cnt_nansum']/avg_std_year['in_cnt_nansum']]\n",
    "avg_std_year['outin_cnt_ratio'] = np.select(cond,choice)"
   ]
  },
  {
   "cell_type": "markdown",
   "metadata": {},
   "source": [
    "## Calculate the average and standard deviation of deposit and withdrawl trasactions across months for each type of transaction"
   ]
  },
  {
   "cell_type": "code",
   "execution_count": null,
   "metadata": {},
   "outputs": [],
   "source": [
    "cols_sel = ['in_amt','in_cnt','out_amt','out_cnt']\n",
    "for col in cols_sel:\n",
    "    temp = df_merged.groupby(['customer_id_mskd','trsactn_type']).agg({col: [np.nanmean, np.nanstd]}).droplevel(0, axis=1).add_prefix((col+'_')).reset_index()\n",
    "    \n",
    "    temp_col = temp.columns.to_list()\n",
    "    col_exclude = ['customer_id_mskd','trsactn_type']\n",
    "    for c1 in temp.columns.to_list():\n",
    "        if c1 in col_exclude:\n",
    "            temp_col.remove(c1)\n",
    "\n",
    "    for col1 in temp_col:\n",
    "        temp1 = pd.pivot_table(temp, index=['customer_id_mskd'], columns='trsactn_type', values=col1).reset_index()\n",
    "        keep_same = {'customer_id_mskd'}\n",
    "        temp1.columns = ['{}{}'.format(c, '' if c in keep_same else ('_'+col1)) for c in temp1.columns]\n",
    "\n",
    "        # merge the wide format dataframe to the customer information dataframe\n",
    "        avg_std_each_trans_year = avg_std_each_trans_year.merge(temp1, on=['customer_id_mskd'], how='outer')\n",
    "\n",
    "        del temp1\n",
    "\n",
    "    del temp"
   ]
  },
  {
   "cell_type": "markdown",
   "metadata": {},
   "source": [
    "## Combine the yearly data that separate columns for different types of transactions with the yearly data of the average and standard deviation results\n"
   ]
  },
  {
   "cell_type": "code",
   "execution_count": null,
   "metadata": {},
   "outputs": [],
   "source": [
    "trans_each_year_all = trsact_each_yr.merge(avg_std_year, on='customer_id_mskd', how='inner')\n",
    "trans_each_year_all = trans_each_year_all.merge(avg_std_each_trans_year, on='customer_id_mskd', how='inner')\n",
    "trans_each_year_all.info()"
   ]
  },
  {
   "cell_type": "code",
   "execution_count": null,
   "metadata": {},
   "outputs": [],
   "source": [
    "# Save this as a parquet file\n",
    "trans_each_year_all.to_parquet(\"trans_each_yr.parquet\")"
   ]
  }
 ],
 "metadata": {
  "kernelspec": {
   "display_name": "Python 3",
   "language": "python",
   "name": "python3"
  },
  "language_info": {
   "codemirror_mode": {
    "name": "ipython",
    "version": 3
   },
   "file_extension": ".py",
   "mimetype": "text/x-python",
   "name": "python",
   "nbconvert_exporter": "python",
   "pygments_lexer": "ipython3",
   "version": "3.8.5"
  }
 },
 "nbformat": 4,
 "nbformat_minor": 4
}
